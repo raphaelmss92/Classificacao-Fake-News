{
  "cells": [
    {
      "cell_type": "markdown",
      "metadata": {},
      "source": [
        "## Objetivo: Avaliar a qualidade da base e tratar/processar informações"
      ]
    },
    {
      "cell_type": "markdown",
      "metadata": {},
      "source": [
        "### Importações"
      ]
    },
    {
      "cell_type": "code",
      "execution_count": 15,
      "metadata": {
        "colab": {
          "base_uri": "https://localhost:8080/",
          "height": 373
        },
        "id": "RpLwjsVuVQeA",
        "outputId": "c45796a2-279e-47ee-83a8-97b12bf25e04"
      },
      "outputs": [],
      "source": [
        "import pandas as pd\n",
        "import re\n",
        "import nltk\n",
        "from unidecode import unidecode\n",
        "from dateutil import parser"
      ]
    },
    {
      "cell_type": "markdown",
      "metadata": {},
      "source": [
        "### Carregando base e avaliando qualidade"
      ]
    },
    {
      "cell_type": "code",
      "execution_count": 16,
      "metadata": {
        "colab": {
          "base_uri": "https://localhost:8080/",
          "height": 206
        },
        "id": "N07UDRUyVia0",
        "outputId": "e8cf389b-0611-43a2-b1c0-e3a0924acd90"
      },
      "outputs": [
        {
          "data": {
            "text/html": [
              "<div>\n",
              "<style scoped>\n",
              "    .dataframe tbody tr th:only-of-type {\n",
              "        vertical-align: middle;\n",
              "    }\n",
              "\n",
              "    .dataframe tbody tr th {\n",
              "        vertical-align: top;\n",
              "    }\n",
              "\n",
              "    .dataframe thead th {\n",
              "        text-align: right;\n",
              "    }\n",
              "</style>\n",
              "<table border=\"1\" class=\"dataframe\">\n",
              "  <thead>\n",
              "    <tr style=\"text-align: right;\">\n",
              "      <th></th>\n",
              "      <th>ID</th>\n",
              "      <th>Noticia</th>\n",
              "      <th>Categoria</th>\n",
              "      <th>Data</th>\n",
              "      <th>Fake</th>\n",
              "    </tr>\n",
              "  </thead>\n",
              "  <tbody>\n",
              "    <tr>\n",
              "      <th>0</th>\n",
              "      <td>1</td>\n",
              "      <td>Kátia Abreu diz que vai colocar sua expulsão e...</td>\n",
              "      <td>politica</td>\n",
              "      <td>2017-11-30</td>\n",
              "      <td>1</td>\n",
              "    </tr>\n",
              "    <tr>\n",
              "      <th>1</th>\n",
              "      <td>10</td>\n",
              "      <td>Dr. Ray peita Bolsonaro, chama-o de conservad...</td>\n",
              "      <td>politica</td>\n",
              "      <td>2017-11-24</td>\n",
              "      <td>1</td>\n",
              "    </tr>\n",
              "    <tr>\n",
              "      <th>2</th>\n",
              "      <td>100</td>\n",
              "      <td>Reinaldo Azevedo desmascarado pela Polícia Fed...</td>\n",
              "      <td>politica</td>\n",
              "      <td>2017-05-23</td>\n",
              "      <td>1</td>\n",
              "    </tr>\n",
              "    <tr>\n",
              "      <th>3</th>\n",
              "      <td>1000</td>\n",
              "      <td>Relatório assustador do BNDES mostra dinheiro ...</td>\n",
              "      <td>politica</td>\n",
              "      <td>24/07/2017</td>\n",
              "      <td>1</td>\n",
              "    </tr>\n",
              "    <tr>\n",
              "      <th>4</th>\n",
              "      <td>1001</td>\n",
              "      <td>Radialista americano fala sobre o PT: \"Eles ve...</td>\n",
              "      <td>politica</td>\n",
              "      <td>25/07/2017</td>\n",
              "      <td>1</td>\n",
              "    </tr>\n",
              "  </tbody>\n",
              "</table>\n",
              "</div>"
            ],
            "text/plain": [
              "     ID                                            Noticia Categoria  \\\n",
              "0     1  Kátia Abreu diz que vai colocar sua expulsão e...  politica   \n",
              "1    10  Dr. Ray peita Bolsonaro, chama-o de conservad...  politica   \n",
              "2   100  Reinaldo Azevedo desmascarado pela Polícia Fed...  politica   \n",
              "3  1000  Relatório assustador do BNDES mostra dinheiro ...  politica   \n",
              "4  1001  Radialista americano fala sobre o PT: \"Eles ve...  politica   \n",
              "\n",
              "         Data  Fake  \n",
              "0  2017-11-30     1  \n",
              "1  2017-11-24     1  \n",
              "2  2017-05-23     1  \n",
              "3  24/07/2017     1  \n",
              "4  25/07/2017     1  "
            ]
          },
          "execution_count": 16,
          "metadata": {},
          "output_type": "execute_result"
        }
      ],
      "source": [
        "df = pd.read_csv(\"base_fake_news.csv\")\n",
        "df.head()"
      ]
    },
    {
      "cell_type": "code",
      "execution_count": 17,
      "metadata": {
        "colab": {
          "base_uri": "https://localhost:8080/"
        },
        "id": "eb7x462IVoEL",
        "outputId": "91e658a4-da2f-4633-b036-55939e3a35e7"
      },
      "outputs": [
        {
          "name": "stdout",
          "output_type": "stream",
          "text": [
            "<class 'pandas.core.frame.DataFrame'>\n",
            "RangeIndex: 7200 entries, 0 to 7199\n",
            "Data columns (total 5 columns):\n",
            " #   Column     Non-Null Count  Dtype \n",
            "---  ------     --------------  ----- \n",
            " 0   ID         7200 non-null   int64 \n",
            " 1   Noticia    7200 non-null   object\n",
            " 2   Categoria  7200 non-null   object\n",
            " 3   Data       7200 non-null   object\n",
            " 4   Fake       7200 non-null   int64 \n",
            "dtypes: int64(2), object(3)\n",
            "memory usage: 281.4+ KB\n"
          ]
        }
      ],
      "source": [
        "df.info()"
      ]
    },
    {
      "cell_type": "markdown",
      "metadata": {},
      "source": [
        "### Avaliando dados e aplicando formatação, tratamento e processamento"
      ]
    },
    {
      "cell_type": "code",
      "execution_count": 18,
      "metadata": {},
      "outputs": [
        {
          "data": {
            "text/html": [
              "<div>\n",
              "<style scoped>\n",
              "    .dataframe tbody tr th:only-of-type {\n",
              "        vertical-align: middle;\n",
              "    }\n",
              "\n",
              "    .dataframe tbody tr th {\n",
              "        vertical-align: top;\n",
              "    }\n",
              "\n",
              "    .dataframe thead th {\n",
              "        text-align: right;\n",
              "    }\n",
              "</style>\n",
              "<table border=\"1\" class=\"dataframe\">\n",
              "  <thead>\n",
              "    <tr style=\"text-align: right;\">\n",
              "      <th></th>\n",
              "      <th>ID</th>\n",
              "      <th>Noticia</th>\n",
              "      <th>Categoria</th>\n",
              "      <th>Data</th>\n",
              "      <th>Fake</th>\n",
              "    </tr>\n",
              "  </thead>\n",
              "  <tbody>\n",
              "    <tr>\n",
              "      <th>nunique</th>\n",
              "      <td>3600</td>\n",
              "      <td>7199</td>\n",
              "      <td>6</td>\n",
              "      <td>3689</td>\n",
              "      <td>2</td>\n",
              "    </tr>\n",
              "    <tr>\n",
              "      <th>unique</th>\n",
              "      <td>[1, 10, 100, 1000, 1001, 1002, 1003, 1004, 100...</td>\n",
              "      <td>[Kátia Abreu diz que vai colocar sua expulsão ...</td>\n",
              "      <td>[politica, tv_celebridades, sociedade_cotidian...</td>\n",
              "      <td>[2017-11-30, 2017-11-24, 2017-05-23, 24/07/201...</td>\n",
              "      <td>[1, 0]</td>\n",
              "    </tr>\n",
              "  </tbody>\n",
              "</table>\n",
              "</div>"
            ],
            "text/plain": [
              "                                                        ID  \\\n",
              "nunique                                               3600   \n",
              "unique   [1, 10, 100, 1000, 1001, 1002, 1003, 1004, 100...   \n",
              "\n",
              "                                                   Noticia  \\\n",
              "nunique                                               7199   \n",
              "unique   [Kátia Abreu diz que vai colocar sua expulsão ...   \n",
              "\n",
              "                                                 Categoria  \\\n",
              "nunique                                                  6   \n",
              "unique   [politica, tv_celebridades, sociedade_cotidian...   \n",
              "\n",
              "                                                      Data    Fake  \n",
              "nunique                                               3689       2  \n",
              "unique   [2017-11-30, 2017-11-24, 2017-05-23, 24/07/201...  [1, 0]  "
            ]
          },
          "execution_count": 18,
          "metadata": {},
          "output_type": "execute_result"
        }
      ],
      "source": [
        "# Avaliando quantos valores únicos possuem cada variável\n",
        "\n",
        "df.agg([\"nunique\", \"unique\"])"
      ]
    },
    {
      "cell_type": "code",
      "execution_count": 19,
      "metadata": {
        "colab": {
          "base_uri": "https://localhost:8080/"
        },
        "id": "s9iNnz4vVtRS",
        "outputId": "f497e866-6b47-4535-f003-f5221545ee13"
      },
      "outputs": [
        {
          "data": {
            "text/plain": [
              "10    3742\n",
              "16    2162\n",
              "19     405\n",
              "22     277\n",
              "21     179\n",
              "23     121\n",
              "8      100\n",
              "9       90\n",
              "20      69\n",
              "18      54\n",
              "7        1\n",
              "Name: Data, dtype: int64"
            ]
          },
          "execution_count": 19,
          "metadata": {},
          "output_type": "execute_result"
        }
      ],
      "source": [
        "# Avaliando se existe padronização nos formatos de data através do tamanho da string\n",
        "\n",
        "len_data = df[\"Data\"].str.len()\n",
        "vc = len_data.value_counts()\n",
        "vc"
      ]
    },
    {
      "cell_type": "code",
      "execution_count": 20,
      "metadata": {
        "colab": {
          "base_uri": "https://localhost:8080/"
        },
        "id": "-ESaYroParcR",
        "outputId": "72556e0e-4140-49ab-c2a1-2f1af17229fb"
      },
      "outputs": [
        {
          "name": "stdout",
          "output_type": "stream",
          "text": [
            "['2017-11-30' '2017-11-24' '2017-05-23' '24/07/2017' '25/07/2017']\n",
            "['31/10/2017 10h17' '05/04/2017 09h08' '22/12/2017 11h57'\n",
            " '28/07/2017 13h40' '06/01/2018 09h29']\n",
            "['03 de março de 2015' '16 de julho de 2016' '01 de julho de 2017'\n",
            " '24 de março de 2018' '08 de março de 2018']\n",
            "['16 de novembro de 2017' '21 de dezembro de 2017'\n",
            " '18 de dezembro de 2017' '17 de novembro de 2014'\n",
            " '10 de dezembro de 2016']\n",
            "['20 de janeiro de 2015' '16 de outubro de 2017' '14 de janeiro de 2018'\n",
            " '08 de janeiro de 2018' '24 de janeiro de 2018']\n",
            "['20 de fevereiro de 2018' '22 de fevereiro de 2018'\n",
            " '23 de fevereiro de 2018' '20 de fevereiro de 2016'\n",
            " '06 de fevereiro de 2018']\n",
            "['3/1/2018' '4/1/2018' '4/1/2018' '4/1/2018' '4/1/2018']\n",
            "['12/1/2018' '7/12/2017' '1/12/2017' '14/7/2017' '25/7/2016']\n",
            "['21 de agosto de 2017' '01 de agosto de 2017' '21 de agosto de 2016'\n",
            " '04 de agosto de 2017' '22 de agosto de 2017']\n",
            "['25 de maio de 2017' '03 de maio de 2017' '13 de maio de 2016'\n",
            " '18 de maio de 2017' '03 de maio de 2017']\n",
            "['28/2/18']\n"
          ]
        }
      ],
      "source": [
        "# Avaliando cinco exemplos de datas com base nos tamanhos das strings\n",
        "\n",
        "for nc in vc.index:\n",
        "  print(df.loc[df[\"Data\"].str.len()==nc, \"Data\"].values[:5])"
      ]
    },
    {
      "cell_type": "code",
      "execution_count": 21,
      "metadata": {
        "id": "V5nsbpvFYNPI"
      },
      "outputs": [],
      "source": [
        "# Dicionário para pré-processamento das datas\n",
        "\n",
        "dict_month = {\n",
        "    \"janeiro\": \"01\",\n",
        "    \"fevereiro\": \"02\",\n",
        "    \"março\": \"03\",\n",
        "    \"marco\": \"03\", # Possibilidade de existir março com ou sem cedilha\n",
        "    \"abril\": \"04\",\n",
        "    \"maio\": \"05\",\n",
        "    \"junho\": \"06\",\n",
        "    \"julho\": \"07\",\n",
        "    \"agosto\": \"08\",\n",
        "    \"setembro\": \"09\",\n",
        "    \"outubro\": \"10\",\n",
        "    \"novembro\": \"11\",\n",
        "    \"dezembro\": \"12\"\n",
        "}"
      ]
    },
    {
      "cell_type": "code",
      "execution_count": 22,
      "metadata": {
        "id": "6rSyKZuhZ7iX"
      },
      "outputs": [],
      "source": [
        "# Função para processamento das datas\n",
        "\n",
        "def date_preprocessing(date):\n",
        "\n",
        "  date = date.lower()\n",
        "\n",
        "  for k, v in dict_month.items():\n",
        "    date = re.sub(\" de \"+k+\" de \", \"/\"+v+\"/\", date)\n",
        "\n",
        "  return parser.parse(date)"
      ]
    },
    {
      "cell_type": "code",
      "execution_count": 23,
      "metadata": {
        "colab": {
          "base_uri": "https://localhost:8080/"
        },
        "id": "T8uhc8aKo3Yn",
        "outputId": "76eff80d-4a49-4e5e-80ee-941c3b80d0a7"
      },
      "outputs": [
        {
          "data": {
            "text/plain": [
              "0       2017-11-30 00:00:00\n",
              "1       2017-11-24 00:00:00\n",
              "2       2017-05-23 00:00:00\n",
              "3       2017-07-24 00:00:00\n",
              "4       2017-07-25 00:00:00\n",
              "               ...         \n",
              "7195    2016-11-22 00:00:00\n",
              "7196    2018-09-02 08:25:00\n",
              "7197    2016-12-31 05:00:00\n",
              "7198    2017-09-15 20:46:00\n",
              "7199    2018-08-01 11:58:00\n",
              "Name: data_proc, Length: 7200, dtype: object"
            ]
          },
          "execution_count": 23,
          "metadata": {},
          "output_type": "execute_result"
        }
      ],
      "source": [
        "# Aplicando o pré processamento nas datas\n",
        "\n",
        "df[\"data_proc\"] = df[\"Data\"].apply(date_preprocessing)\n",
        "df[\"data_proc\"]"
      ]
    },
    {
      "cell_type": "code",
      "execution_count": 24,
      "metadata": {
        "colab": {
          "base_uri": "https://localhost:8080/"
        },
        "id": "jC3-H85ymzIz",
        "outputId": "ef7c8eaf-3c24-4255-fd58-bcd52c9b8c82"
      },
      "outputs": [
        {
          "data": {
            "text/plain": [
              "2017    3711\n",
              "2016    1864\n",
              "2018    1308\n",
              "2015     275\n",
              "2012      10\n",
              "2014      10\n",
              "2010       6\n",
              "2011       5\n",
              "2013       5\n",
              "201        3\n",
              "2009       3\n",
              "dtype: int64"
            ]
          },
          "execution_count": 24,
          "metadata": {},
          "output_type": "execute_result"
        }
      ],
      "source": [
        "# Contagem dos anos obtidos\n",
        "\n",
        "Ano = pd.Series([dt.year for dt in df[\"data_proc\"].values])\n",
        "Ano.value_counts()"
      ]
    },
    {
      "cell_type": "code",
      "execution_count": 25,
      "metadata": {
        "colab": {
          "base_uri": "https://localhost:8080/",
          "height": 238
        },
        "id": "agPUqnG6wszh",
        "outputId": "0202c1dd-8bbc-4c41-885b-51008e6ad39d"
      },
      "outputs": [
        {
          "data": {
            "text/html": [
              "<div>\n",
              "<style scoped>\n",
              "    .dataframe tbody tr th:only-of-type {\n",
              "        vertical-align: middle;\n",
              "    }\n",
              "\n",
              "    .dataframe tbody tr th {\n",
              "        vertical-align: top;\n",
              "    }\n",
              "\n",
              "    .dataframe thead th {\n",
              "        text-align: right;\n",
              "    }\n",
              "</style>\n",
              "<table border=\"1\" class=\"dataframe\">\n",
              "  <thead>\n",
              "    <tr style=\"text-align: right;\">\n",
              "      <th></th>\n",
              "      <th>ID</th>\n",
              "      <th>Noticia</th>\n",
              "      <th>Categoria</th>\n",
              "      <th>Data</th>\n",
              "      <th>Fake</th>\n",
              "      <th>data_proc</th>\n",
              "    </tr>\n",
              "  </thead>\n",
              "  <tbody>\n",
              "    <tr>\n",
              "      <th>13</th>\n",
              "      <td>101</td>\n",
              "      <td>URGENTE: Janot pede prisão de Aécio Neves. O p...</td>\n",
              "      <td>politica</td>\n",
              "      <td>2017-05-22</td>\n",
              "      <td>1</td>\n",
              "      <td>2017-05-22 00:00:00</td>\n",
              "    </tr>\n",
              "    <tr>\n",
              "      <th>700</th>\n",
              "      <td>163</td>\n",
              "      <td>Polícia Federal acaba de indiciar Lula, a espo...</td>\n",
              "      <td>politica</td>\n",
              "      <td>2016-12-12</td>\n",
              "      <td>1</td>\n",
              "      <td>2016-12-12 00:00:00</td>\n",
              "    </tr>\n",
              "    <tr>\n",
              "      <th>2891</th>\n",
              "      <td>3601</td>\n",
              "      <td>Há 400 anos,  Nostradamus previu a vitória de ...</td>\n",
              "      <td>tv_celebridades</td>\n",
              "      <td>24 de julho de 2017</td>\n",
              "      <td>1</td>\n",
              "      <td>2017-07-24 00:00:00</td>\n",
              "    </tr>\n",
              "    <tr>\n",
              "      <th>3613</th>\n",
              "      <td>101</td>\n",
              "      <td>CPI aprova relatório final e recomenda investi...</td>\n",
              "      <td>politica</td>\n",
              "      <td>2017-05-22</td>\n",
              "      <td>0</td>\n",
              "      <td>2017-05-22 00:00:00</td>\n",
              "    </tr>\n",
              "    <tr>\n",
              "      <th>4300</th>\n",
              "      <td>163</td>\n",
              "      <td>Antes do Natal, Lula tentou tirar, novamente, ...</td>\n",
              "      <td>politica</td>\n",
              "      <td>2016-12-12</td>\n",
              "      <td>0</td>\n",
              "      <td>2016-12-12 00:00:00</td>\n",
              "    </tr>\n",
              "    <tr>\n",
              "      <th>6491</th>\n",
              "      <td>3601</td>\n",
              "      <td>As lições de educação moral e cívica, que o ba...</td>\n",
              "      <td>tv_celebridades</td>\n",
              "      <td>24 de julho de 2017</td>\n",
              "      <td>0</td>\n",
              "      <td>2017-07-24 00:00:00</td>\n",
              "    </tr>\n",
              "  </tbody>\n",
              "</table>\n",
              "</div>"
            ],
            "text/plain": [
              "        ID                                            Noticia  \\\n",
              "13     101  URGENTE: Janot pede prisão de Aécio Neves. O p...   \n",
              "700    163  Polícia Federal acaba de indiciar Lula, a espo...   \n",
              "2891  3601  Há 400 anos,  Nostradamus previu a vitória de ...   \n",
              "3613   101  CPI aprova relatório final e recomenda investi...   \n",
              "4300   163  Antes do Natal, Lula tentou tirar, novamente, ...   \n",
              "6491  3601  As lições de educação moral e cívica, que o ba...   \n",
              "\n",
              "            Categoria                 Data  Fake            data_proc  \n",
              "13           politica           2017-05-22     1  2017-05-22 00:00:00  \n",
              "700          politica           2016-12-12     1  2016-12-12 00:00:00  \n",
              "2891  tv_celebridades  24 de julho de 2017     1  2017-07-24 00:00:00  \n",
              "3613         politica           2017-05-22     0  2017-05-22 00:00:00  \n",
              "4300         politica           2016-12-12     0  2016-12-12 00:00:00  \n",
              "6491  tv_celebridades  24 de julho de 2017     0  2017-07-24 00:00:00  "
            ]
          },
          "execution_count": 25,
          "metadata": {},
          "output_type": "execute_result"
        }
      ],
      "source": [
        "# Avaliando anos com erro e atribuindo as datas de seus respectivos pares\n",
        "\n",
        "sub_df = df.loc[Ano==201]\n",
        "columns = [\"Data\", \"data_proc\"]\n",
        "\n",
        "for id in sub_df[\"ID\"].unique():\n",
        "\n",
        "  df.loc[(df[\"ID\"]==id)&(df.index.isin(sub_df.index)), columns] = df.loc[(df[\"ID\"]==id)&(~df.index.isin(sub_df.index)), columns].values\n",
        "\n",
        "df.loc[df[\"ID\"].isin(sub_df[\"ID\"].values)]"
      ]
    },
    {
      "cell_type": "code",
      "execution_count": 26,
      "metadata": {
        "colab": {
          "base_uri": "https://localhost:8080/"
        },
        "id": "TEYNEuqiadPM",
        "outputId": "a8c21faf-7239-48cb-cd5c-febe58da773b"
      },
      "outputs": [
        {
          "data": {
            "text/plain": [
              "0      2017-11-30 00:00:00\n",
              "1      2017-11-24 00:00:00\n",
              "2      2017-05-23 00:00:00\n",
              "3      2017-07-24 00:00:00\n",
              "4      2017-07-25 00:00:00\n",
              "               ...        \n",
              "7195   2016-11-22 00:00:00\n",
              "7196   2018-09-02 08:25:00\n",
              "7197   2016-12-31 05:00:00\n",
              "7198   2017-09-15 20:46:00\n",
              "7199   2018-08-01 11:58:00\n",
              "Name: data_proc, Length: 7200, dtype: datetime64[ns]"
            ]
          },
          "execution_count": 26,
          "metadata": {},
          "output_type": "execute_result"
        }
      ],
      "source": [
        "# Transformando no formato datetime\n",
        "\n",
        "df[\"data_proc\"] = pd.to_datetime(df[\"data_proc\"])\n",
        "df[\"data_proc\"]"
      ]
    },
    {
      "cell_type": "code",
      "execution_count": 27,
      "metadata": {
        "id": "lX0Ih8pNlNw2"
      },
      "outputs": [
        {
          "data": {
            "text/html": [
              "<div>\n",
              "<style scoped>\n",
              "    .dataframe tbody tr th:only-of-type {\n",
              "        vertical-align: middle;\n",
              "    }\n",
              "\n",
              "    .dataframe tbody tr th {\n",
              "        vertical-align: top;\n",
              "    }\n",
              "\n",
              "    .dataframe thead th {\n",
              "        text-align: right;\n",
              "    }\n",
              "</style>\n",
              "<table border=\"1\" class=\"dataframe\">\n",
              "  <thead>\n",
              "    <tr style=\"text-align: right;\">\n",
              "      <th></th>\n",
              "      <th>ID</th>\n",
              "      <th>Noticia</th>\n",
              "      <th>Categoria</th>\n",
              "      <th>Data</th>\n",
              "      <th>Fake</th>\n",
              "      <th>data_proc</th>\n",
              "      <th>txt_limpo</th>\n",
              "      <th>txt_tratado</th>\n",
              "      <th>txt_stemizado</th>\n",
              "    </tr>\n",
              "  </thead>\n",
              "  <tbody>\n",
              "    <tr>\n",
              "      <th>0</th>\n",
              "      <td>1</td>\n",
              "      <td>Kátia Abreu diz que vai colocar sua expulsão e...</td>\n",
              "      <td>politica</td>\n",
              "      <td>2017-11-30</td>\n",
              "      <td>1</td>\n",
              "      <td>2017-11-30</td>\n",
              "      <td>Kátia Abreu diz que vai colocar sua expulsão e...</td>\n",
              "      <td>katia abreu colocar expulsao moldura reclamar ...</td>\n",
              "      <td>kat abr coloc expulsa mold reclam sen kat abr ...</td>\n",
              "    </tr>\n",
              "    <tr>\n",
              "      <th>1</th>\n",
              "      <td>10</td>\n",
              "      <td>Dr. Ray peita Bolsonaro, chama-o de conservad...</td>\n",
              "      <td>politica</td>\n",
              "      <td>2017-11-24</td>\n",
              "      <td>1</td>\n",
              "      <td>2017-11-24</td>\n",
              "      <td>Dr. Ray peita Bolsonaro, chama-o de \"conservad...</td>\n",
              "      <td>ray peita bolsonaro chama conservador fake ent...</td>\n",
              "      <td>ray peit bolsonar cham conserv fak entrev dani...</td>\n",
              "    </tr>\n",
              "    <tr>\n",
              "      <th>2</th>\n",
              "      <td>100</td>\n",
              "      <td>Reinaldo Azevedo desmascarado pela Polícia Fed...</td>\n",
              "      <td>politica</td>\n",
              "      <td>2017-05-23</td>\n",
              "      <td>1</td>\n",
              "      <td>2017-05-23</td>\n",
              "      <td>Reinaldo Azevedo desmascarado pela Polícia Fed...</td>\n",
              "      <td>reinaldo azevedo desmascarado policia federal ...</td>\n",
              "      <td>reinald azeved desmascar polic feder ferrenh c...</td>\n",
              "    </tr>\n",
              "    <tr>\n",
              "      <th>3</th>\n",
              "      <td>1000</td>\n",
              "      <td>Relatório assustador do BNDES mostra dinheiro ...</td>\n",
              "      <td>politica</td>\n",
              "      <td>24/07/2017</td>\n",
              "      <td>1</td>\n",
              "      <td>2017-07-24</td>\n",
              "      <td>Relatório assustador do BNDES mostra dinheiro ...</td>\n",
              "      <td>relatorio assustador bndes mostra dinheiro pub...</td>\n",
              "      <td>relatori assust bnd mostr dinh publ brasil jor...</td>\n",
              "    </tr>\n",
              "    <tr>\n",
              "      <th>4</th>\n",
              "      <td>1001</td>\n",
              "      <td>Radialista americano fala sobre o PT: \"Eles ve...</td>\n",
              "      <td>politica</td>\n",
              "      <td>25/07/2017</td>\n",
              "      <td>1</td>\n",
              "      <td>2017-07-25</td>\n",
              "      <td>Radialista americano fala sobre o PT: \"Eles ve...</td>\n",
              "      <td>radialista americano fala vendem ilusao povo b...</td>\n",
              "      <td>radial americ fal vend ilusa pov brasil pens d...</td>\n",
              "    </tr>\n",
              "  </tbody>\n",
              "</table>\n",
              "</div>"
            ],
            "text/plain": [
              "     ID                                            Noticia Categoria  \\\n",
              "0     1  Kátia Abreu diz que vai colocar sua expulsão e...  politica   \n",
              "1    10  Dr. Ray peita Bolsonaro, chama-o de conservad...  politica   \n",
              "2   100  Reinaldo Azevedo desmascarado pela Polícia Fed...  politica   \n",
              "3  1000  Relatório assustador do BNDES mostra dinheiro ...  politica   \n",
              "4  1001  Radialista americano fala sobre o PT: \"Eles ve...  politica   \n",
              "\n",
              "         Data  Fake  data_proc  \\\n",
              "0  2017-11-30     1 2017-11-30   \n",
              "1  2017-11-24     1 2017-11-24   \n",
              "2  2017-05-23     1 2017-05-23   \n",
              "3  24/07/2017     1 2017-07-24   \n",
              "4  25/07/2017     1 2017-07-25   \n",
              "\n",
              "                                           txt_limpo  \\\n",
              "0  Kátia Abreu diz que vai colocar sua expulsão e...   \n",
              "1  Dr. Ray peita Bolsonaro, chama-o de \"conservad...   \n",
              "2  Reinaldo Azevedo desmascarado pela Polícia Fed...   \n",
              "3  Relatório assustador do BNDES mostra dinheiro ...   \n",
              "4  Radialista americano fala sobre o PT: \"Eles ve...   \n",
              "\n",
              "                                         txt_tratado  \\\n",
              "0  katia abreu colocar expulsao moldura reclamar ...   \n",
              "1  ray peita bolsonaro chama conservador fake ent...   \n",
              "2  reinaldo azevedo desmascarado policia federal ...   \n",
              "3  relatorio assustador bndes mostra dinheiro pub...   \n",
              "4  radialista americano fala vendem ilusao povo b...   \n",
              "\n",
              "                                       txt_stemizado  \n",
              "0  kat abr coloc expulsa mold reclam sen kat abr ...  \n",
              "1  ray peit bolsonar cham conserv fak entrev dani...  \n",
              "2  reinald azeved desmascar polic feder ferrenh c...  \n",
              "3  relatori assust bnd mostr dinh publ brasil jor...  \n",
              "4  radial americ fal vend ilusa pov brasil pens d...  "
            ]
          },
          "execution_count": 27,
          "metadata": {},
          "output_type": "execute_result"
        }
      ],
      "source": [
        "'''\n",
        "Tratamento dos textos - Vai retornar o texto de entrada em três estados distintos:\n",
        "   - Texto limpo: Texto sem problemas de formatação provenientes de diferentes codificações\n",
        "   - Texto tratado: Texto sem acentos e pontuações gráficas, além da remoção de stopwords\n",
        "   - Texto stemizado: Texto tratado com tokens stemizados\n",
        "'''\n",
        "\n",
        "stopwords = ['a', 'à', 'adeus', 'agora', 'aí', 'ainda', 'além', 'algo', 'alguém', 'algum', 'alguma', 'algumas', 'alguns', 'ali', 'ampla', 'amplas', 'amplo', 'amplos', 'ano', 'anos', 'ante', 'antes', 'ao', 'aos', 'apenas', 'apoio', 'após', 'aquela', 'aquelas', 'aquele', 'aqueles', 'aqui', 'aquilo', 'área', 'as', 'às', 'assim', 'até', 'atrás', 'através', 'baixo', 'bastante', 'bem', 'boa', 'boas', 'bom', 'bons', 'breve', 'cá', 'cada', 'catorze', 'cedo', 'cento', 'certamente', 'certeza', 'cima', 'cinco', 'coisa', 'coisas', 'com', 'como', 'conselho', 'contra', 'contudo', 'custa', 'da', 'dá', 'dão', 'daquela', 'daquelas', 'daquele', 'daqueles', 'dar', 'das', 'de', 'debaixo', 'dela', 'delas', 'dele', 'deles', 'demais', 'dentro', 'depois', 'desde', 'dessa', 'dessas', 'desse', 'desses', 'desta', 'destas', 'deste', 'destes', 'deve', 'devem', 'devendo', 'dever', 'deverá', 'deverão', 'deveria', 'deveriam', 'devia', 'deviam', 'dez', 'dezanove', 'dezasseis', 'dezassete', 'dezoito', 'dia', 'diante', 'disse', 'disso', 'disto', 'dito', 'diz', 'dizem', 'dizer', 'do', 'dois', 'dos', 'doze', 'duas', 'dúvida', 'e', 'é', 'ela', 'elas', 'ele', 'eles', 'em', 'embora', 'enquanto', 'entre', 'era', 'eram', 'éramos', 'és', 'essa', 'essas', 'esse', 'esses', 'esta', 'está', 'estamos', 'estão', 'estar', 'estas', 'estás', 'estava', 'estavam', 'estávamos', 'este', 'esteja', 'estejam', 'estejamos', 'estes', 'esteve', 'estive', 'estivemos', 'estiver', 'estivera', 'estiveram', 'estivéramos', 'estiverem', 'estivermos', 'estivesse', 'estivessem', 'estivéssemos', 'estiveste', 'estivestes', 'estou', 'etc', 'eu', 'exemplo', 'faço', 'falta', 'favor', 'faz', 'fazeis', 'fazem', 'fazemos', 'fazendo', 'fazer', 'fazes', 'feita', 'feitas', 'feito', 'feitos', 'fez', 'fim', 'final', 'foi', 'fomos', 'for', 'fora', 'foram', 'fôramos', 'forem', 'forma', 'formos', 'fosse', 'fossem', 'fôssemos', 'foste', 'fostes', 'fui', 'geral', 'grande', 'grandes', 'grupo', 'há', 'haja', 'hajam', 'hajamos', 'hão', 'havemos', 'havia', 'hei', 'hoje', 'hora', 'horas', 'houve', 'houvemos', 'houver', 'houvera', 'houverá', 'houveram', 'houvéramos', 'houverão', 'houverei', 'houverem', 'houveremos', 'houveria', 'houveriam', 'houveríamos', 'houvermos', 'houvesse', 'houvessem', 'houvéssemos', 'isso', 'isto', 'já', 'la', 'lá', 'lado', 'lhe', 'lhes', 'lo', 'local', 'logo', 'longe', 'lugar', 'maior', 'maioria', 'mais', 'mal', 'mas', 'máximo', 'me', 'meio', 'menor', 'menos', 'mês', 'meses', 'mesma', 'mesmas', 'mesmo', 'mesmos', 'meu', 'meus', 'mil', 'minha', 'minhas', 'momento', 'muita', 'muitas', 'muito', 'muitos', 'na', 'nada', 'não', 'naquela', 'naquelas', 'naquele', 'naqueles', 'nas', 'nem', 'nenhum', 'nenhuma', 'nessa', 'nessas', 'nesse', 'nesses', 'nesta', 'nestas', 'neste', 'nestes', 'ninguém', 'nível', 'no', 'noite', 'nome', 'nos', 'nós', 'nossa', 'nossas', 'nosso', 'nossos', 'nova', 'novas', 'nove', 'novo', 'novos', 'num', 'numa', 'número', 'nunca', 'o', 'obra', 'obrigada', 'obrigado', 'oitava', 'oitavo', 'oito', 'onde', 'ontem', 'onze', 'os', 'ou', 'outra', 'outras', 'outro', 'outros', 'para', 'parece', 'parte', 'partir', 'paucas', 'pela', 'pelas', 'pelo', 'pelos', 'pequena', 'pequenas', 'pequeno', 'pequenos', 'per', 'perante', 'perto', 'pode', 'pude', 'pôde', 'podem', 'podendo', 'poder', 'poderia', 'poderiam', 'podia', 'podiam', 'põe', 'põem', 'pois', 'ponto', 'pontos', 'por', 'porém', 'porque', 'porquê', 'posição', 'possível', 'possivelmente', 'posso', 'pouca', 'poucas', 'pouco', 'poucos', 'primeira', 'primeiras', 'primeiro', 'primeiros', 'própria', 'próprias', 'próprio', 'próprios', 'próxima', 'próximas', 'próximo', 'próximos', 'pude', 'puderam', 'quais', 'quáis', 'qual', 'quando', 'quanto', 'quantos', 'quarta', 'quarto', 'quatro', 'que', 'quê', 'quem', 'quer', 'quereis', 'querem', 'queremas', 'queres', 'quero', 'questão', 'quinta', 'quinto', 'quinze', 'relação', 'sabe', 'sabem', 'são', 'se', 'segunda', 'segundo', 'sei', 'seis', 'seja', 'sejam', 'sejamos', 'sem', 'sempre', 'sendo', 'ser', 'será', 'serão', 'serei', 'seremos', 'seria', 'seriam', 'seríamos', 'sete', 'sétima', 'sétimo', 'seu', 'seus', 'sexta', 'sexto', 'si', 'sido', 'sim', 'sistema', 'só', 'sob', 'sobre', 'sois', 'somos', 'sou', 'sua', 'suas', 'tal', 'talvez', 'também', 'tampouco', 'tanta', 'tantas', 'tanto', 'tão', 'tarde', 'te', 'tem', 'tém', 'têm', 'temos', 'tendes', 'tendo', 'tenha', 'tenham', 'tenhamos', 'tenho', 'tens', 'ter', 'terá', 'terão', 'terceira', 'terceiro', 'terei', 'teremos', 'teria', 'teriam', 'teríamos', 'teu', 'teus', 'teve', 'ti', 'tido', 'tinha', 'tinham', 'tínhamos', 'tive', 'tivemos', 'tiver', 'tivera', 'tiveram', 'tivéramos', 'tiverem', 'tivermos', 'tivesse', 'tivessem', 'tivéssemos', 'tiveste', 'tivestes', 'toda', 'todas', 'todavia', 'todo', 'todos', 'trabalho', 'três', 'treze', 'tu', 'tua', 'tuas', 'tudo', 'última', 'últimas', 'último', 'últimos', 'um', 'uma', 'umas', 'uns', 'vai', 'vais', 'vão', 'vários', 'vem', 'vêm', 'vendo', 'vens', 'ver', 'vez', 'vezes', 'viagem', 'vindo', 'vinte', 'vir', 'você', 'vocês', 'vos', 'vós', 'vossa', 'vossas', 'vosso', 'vossos', 'zero', '_']\n",
        "stemmer = nltk.stem.RSLPStemmer()\n",
        "\n",
        "def txt_preprocessing(txt):\n",
        "  \n",
        "  # Corrigindo alguns problemas de decodificação\n",
        "  txt1 = re.sub(\"\\x91|\\x92|\\x93|\\x94\", '\"', txt)\n",
        "  txt1 = re.sub(\"\\x96\", \"-\", txt1)\n",
        "\n",
        "  txt2 = txt1.lower()                       # Passando o texto para minúsculo\n",
        "  txt2 = re.sub(r\"\\d\", \" \", txt2)           # Removendo digitos\n",
        "  txt2 = re.sub(r\"[^\\w\\s]\", \" \", txt2)      # Removendo qualquer coisa que não seja letra ou espaço\n",
        "  txt2 = re.sub(r\"\\b\\w{1,2}\\b\", \" \", txt2)  # Removendo palavras com apenas uma ou duas letras\n",
        "  txt2 = re.sub(r\"\\s+\", \" \", txt2)          # Removendo espaços em excesso por espaço único\n",
        "\n",
        "  txt2 = \" \".join([unidecode(tkn) for tkn in txt2.split() if tkn not in stopwords]) # Removendo stopwords e acentos gráficos\n",
        "\n",
        "  txt3 = \" \".join([stemmer.stem(tkn) for tkn in txt2.split()]) # Stemizando\n",
        "\n",
        "  return txt1, txt2, txt3 # Texto sem problemas de decodificação, texto limpo não stemizado, texto limpo stemizado\n",
        "\n",
        "\n",
        "df[[\"txt_limpo\", \"txt_tratado\", \"txt_stemizado\"]] = df.apply(lambda f: txt_preprocessing(f.Noticia), axis=1, result_type=\"expand\")\n",
        "df.head()"
      ]
    },
    {
      "cell_type": "code",
      "execution_count": 28,
      "metadata": {
        "id": "r4-Z0r49QMpO"
      },
      "outputs": [],
      "source": [
        "# Salvando base final com dados tratados\n",
        "\n",
        "df[[\"ID\", \"txt_limpo\", \"txt_tratado\", \"txt_stemizado\", \"Categoria\", \"data_proc\", \"Fake\"]].to_csv(\"base_fake_news_trat.csv\", index=False)"
      ]
    }
  ],
  "metadata": {
    "colab": {
      "provenance": []
    },
    "kernelspec": {
      "display_name": "Python 3",
      "name": "python3"
    },
    "language_info": {
      "codemirror_mode": {
        "name": "ipython",
        "version": 3
      },
      "file_extension": ".py",
      "mimetype": "text/x-python",
      "name": "python",
      "nbconvert_exporter": "python",
      "pygments_lexer": "ipython3",
      "version": "3.10.5"
    }
  },
  "nbformat": 4,
  "nbformat_minor": 0
}
